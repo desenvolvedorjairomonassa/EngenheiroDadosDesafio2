{
  "nbformat": 4,
  "nbformat_minor": 0,
  "metadata": {
    "colab": {
      "name": "Analisemongodb.ipynb",
      "provenance": []
    },
    "kernelspec": {
      "name": "python3",
      "display_name": "Python 3"
    },
    "language_info": {
      "name": "python"
    }
  },
  "cells": [
    {
      "cell_type": "code",
      "execution_count": 48,
      "metadata": {
        "colab": {
          "base_uri": "https://localhost:8080/",
          "height": 362
        },
        "id": "dGu8-lzV35u0",
        "outputId": "6b0233f3-b46c-48bf-e495-6265a0ee48cc"
      },
      "outputs": [
        {
          "output_type": "stream",
          "name": "stdout",
          "text": [
            "Found existing installation: pymongo 4.0.1\n",
            "Uninstalling pymongo-4.0.1:\n",
            "  Would remove:\n",
            "    /usr/local/lib/python3.7/dist-packages/bson/*\n",
            "    /usr/local/lib/python3.7/dist-packages/gridfs/*\n",
            "    /usr/local/lib/python3.7/dist-packages/pymongo-4.0.1.dist-info/*\n",
            "    /usr/local/lib/python3.7/dist-packages/pymongo/*\n",
            "Proceed (y/n)? y\n",
            "  Successfully uninstalled pymongo-4.0.1\n",
            "Collecting pymongo[srv]\n",
            "  Downloading pymongo-4.0.1-cp37-cp37m-manylinux_2_17_x86_64.manylinux2014_x86_64.whl (452 kB)\n",
            "\u001b[K     |████████████████████████████████| 452 kB 9.0 MB/s \n",
            "\u001b[?25hRequirement already satisfied: dnspython<3.0.0,>=1.16.0 in /usr/local/lib/python3.7/dist-packages (from pymongo[srv]) (2.2.0)\n",
            "Installing collected packages: pymongo\n",
            "Successfully installed pymongo-4.0.1\n"
          ]
        },
        {
          "output_type": "display_data",
          "data": {
            "application/vnd.colab-display-data+json": {
              "pip_warning": {
                "packages": [
                  "bson",
                  "pymongo"
                ]
              }
            }
          },
          "metadata": {}
        }
      ],
      "source": [
        "!pip uninstall pymongo\n",
        "!pip install pymongo[srv] "
      ]
    },
    {
      "cell_type": "code",
      "source": [
        "import pandas as pd"
      ],
      "metadata": {
        "id": "J9dZadc7IaEH"
      },
      "execution_count": 5,
      "outputs": []
    },
    {
      "cell_type": "code",
      "source": [
        "df = pd.read_json('https://raw.githubusercontent.com/desenvolvedorjairomonassa/EngenheiroDadosDesafio2/main/lista_jogadores_chess-1.json')"
      ],
      "metadata": {
        "id": "nlb9ZtWoMBv8"
      },
      "execution_count": 6,
      "outputs": []
    },
    {
      "cell_type": "code",
      "source": [
        "users = []\n",
        "for user in df.itertuples():\n",
        "    users.append( user.user )\n",
        "#exemplos\n",
        "users[:1]"
      ],
      "metadata": {
        "colab": {
          "base_uri": "https://localhost:8080/"
        },
        "id": "1ghKE4MQMnrU",
        "outputId": "9b599b9c-e195-49de-cfba-4605b0bee93b"
      },
      "execution_count": 10,
      "outputs": [
        {
          "output_type": "execute_result",
          "data": {
            "text/plain": [
              "[{'@id': 'https://api.chess.com/pub/player/123lt',\n",
              "  '_id': ObjectId('6218f57ce7e17cbbde58e3a3'),\n",
              "  'avatar': 'https://images.chesscomfiles.com/uploads/v1/user/18800602.e26b721f.200x200o.e738019a328a.jpeg',\n",
              "  'country': 'https://api.chess.com/pub/country/CN',\n",
              "  'followers': 36,\n",
              "  'is_streamer': False,\n",
              "  'joined': 1410059361,\n",
              "  'last_online': 1615967972,\n",
              "  'name': 'Tingjie Lei',\n",
              "  'player_id': 18800602,\n",
              "  'status': 'premium',\n",
              "  'title': 'GM',\n",
              "  'url': 'https://www.chess.com/member/123lt',\n",
              "  'username': '123lt'}]"
            ]
          },
          "metadata": {},
          "execution_count": 10
        }
      ]
    },
    {
      "cell_type": "code",
      "source": [
        "MONGO_PASSWORD = 'xxxxxxxxxxxx'\n",
        "MONGO_USER = 'xxxxxxxxxxxxx'\n",
        "DATABASE = 'chess'\n",
        "import pymongo\n",
        "import json"
      ],
      "metadata": {
        "id": "x9Kro-hxMs2U"
      },
      "execution_count": 37,
      "outputs": []
    },
    {
      "cell_type": "code",
      "source": [
        "try:    \n",
        "  client = pymongo.MongoClient(\"mongodb+srv://%s:%s@monassa.vgddz.mongodb.net/%s?retryWrites=true&w=majority\"%(MONGO_USER,MONGO_PASSWORD,DATABASE))        \n",
        "  #db = client.test\n",
        "  db = client.get_database('chess')\n",
        "  print('conectou')  \n",
        "  print(db.chess)    \n",
        "  collection = db.chess\n",
        "  print(type(collection))\n",
        "  contagem = collection.count_documents({})\n",
        "  print(contagem)\n",
        "except Exception as inst:       \n",
        "  print('erro no acesso ao banco coleção chess : %s' %(inst))    "
      ],
      "metadata": {
        "colab": {
          "base_uri": "https://localhost:8080/"
        },
        "id": "bC6B2hA5OPXT",
        "outputId": "96e72956-efdb-4a6f-9896-a62cea90cce0"
      },
      "execution_count": 40,
      "outputs": [
        {
          "output_type": "stream",
          "name": "stdout",
          "text": [
            "conectou\n",
            "Collection(Database(MongoClient(host=['monassa-shard-00-00.vgddz.mongodb.net:27017', 'monassa-shard-00-02.vgddz.mongodb.net:27017', 'monassa-shard-00-01.vgddz.mongodb.net:27017'], document_class=dict, tz_aware=False, connect=True, retrywrites=True, w='majority', authsource='admin', replicaset='Monassa-shard-0', tls=True), 'chess'), 'chess')\n",
            "<class 'pymongo.collection.Collection'>\n",
            "0\n"
          ]
        }
      ]
    },
    {
      "cell_type": "code",
      "source": [
        "try:    \n",
        "  client = pymongo.MongoClient(\"mongodb+srv://%s:%s@monassa.vgddz.mongodb.net/%s?retryWrites=true&w=majority\"%(MONGO_USER,MONGO_PASSWORD,DATABASE))        \n",
        "  #db = client.test\n",
        "  db = client.get_database('chess')\n",
        "  collection = db.chess\n",
        "  for user in users:\n",
        "    user_id = collection.insert_one(user)\n",
        "    #print(user_id)  \n",
        "except Exception as inst:       \n",
        "  print('erro no acesso ao banco coleção chess : %s' %(inst))  "
      ],
      "metadata": {
        "id": "HJFDn-F3Ukal"
      },
      "execution_count": null,
      "outputs": []
    },
    {
      "cell_type": "code",
      "source": [
        "#Quantos registros possuem na base de dados do chess?\n",
        "count = db.chess.estimated_document_count()\n",
        "count"
      ],
      "metadata": {
        "colab": {
          "base_uri": "https://localhost:8080/"
        },
        "id": "Sfbr7uPunoq1",
        "outputId": "2d50e561-5d9d-446c-c4c1-83dd651ffcc3"
      },
      "execution_count": 42,
      "outputs": [
        {
          "output_type": "execute_result",
          "data": {
            "text/plain": [
              "1332"
            ]
          },
          "metadata": {},
          "execution_count": 42
        }
      ]
    },
    {
      "cell_type": "code",
      "source": [
        "# or Quantos registros possuem na base de dados do chess?\n",
        "count = collection.count_documents({})\n",
        "count"
      ],
      "metadata": {
        "colab": {
          "base_uri": "https://localhost:8080/"
        },
        "id": "SFnKo7e2oLEf",
        "outputId": "0339d599-d1ab-40fd-cbc9-2705eff329de"
      },
      "execution_count": 43,
      "outputs": [
        {
          "output_type": "execute_result",
          "data": {
            "text/plain": [
              "1332"
            ]
          },
          "metadata": {},
          "execution_count": 43
        }
      ]
    },
    {
      "cell_type": "code",
      "source": [
        "# Quantos jogadores são do Estados Unidos (US)?\n",
        "count = db.chess.count_documents({ \"country\": { \"$regex\": \"US\", \"$options\": \"i\" } })\n",
        "count"
      ],
      "metadata": {
        "colab": {
          "base_uri": "https://localhost:8080/"
        },
        "id": "PnVKo8Bcomoq",
        "outputId": "7ade608a-742e-484b-add2-5c792941e612"
      },
      "execution_count": 44,
      "outputs": [
        {
          "output_type": "execute_result",
          "data": {
            "text/plain": [
              "223"
            ]
          },
          "metadata": {},
          "execution_count": 44
        }
      ]
    },
    {
      "cell_type": "code",
      "source": [
        "#Quantos seguidores (número de pessoas) o jogador Alex Fier possui?  \n",
        "seguidores = 0\n",
        "for jogador in db.chess.find({ \"name\": 'Alex Fier'}):\n",
        "    seguidores += jogador['followers']\n",
        "   \n",
        "seguidores"
      ],
      "metadata": {
        "colab": {
          "base_uri": "https://localhost:8080/"
        },
        "id": "jmWML3ZMowxn",
        "outputId": "714d1f8b-b617-4dc1-832e-af6a87551b08"
      },
      "execution_count": 48,
      "outputs": [
        {
          "output_type": "execute_result",
          "data": {
            "text/plain": [
              "894"
            ]
          },
          "metadata": {},
          "execution_count": 48
        }
      ]
    },
    {
      "cell_type": "code",
      "source": [
        "#Quantas pessoas do dataset NÃO são streamer? \n",
        "streamer = db.chess.count_documents({ \"is_streamer\": False})\n",
        "   \n",
        "streamer"
      ],
      "metadata": {
        "colab": {
          "base_uri": "https://localhost:8080/"
        },
        "id": "_x0Ey_GHpNAq",
        "outputId": "2b907e53-d257-419f-cbd4-939a4df65439"
      },
      "execution_count": 46,
      "outputs": [
        {
          "output_type": "execute_result",
          "data": {
            "text/plain": [
              "1266"
            ]
          },
          "metadata": {},
          "execution_count": 46
        }
      ]
    },
    {
      "cell_type": "code",
      "source": [
        "#Quantos jogadores possuem mais de 10.000 seguidores? (Operador maior ou igual a que?)\n",
        "followers = db.chess.count_documents({ \"followers\": { \"$gt\": 10000 }})\n",
        "followers"
      ],
      "metadata": {
        "colab": {
          "base_uri": "https://localhost:8080/"
        },
        "id": "u6qa3db_qz-8",
        "outputId": "7a483e1d-b940-49d2-978e-dd4862b97e72"
      },
      "execution_count": 50,
      "outputs": [
        {
          "output_type": "execute_result",
          "data": {
            "text/plain": [
              "13"
            ]
          },
          "metadata": {},
          "execution_count": 50
        }
      ]
    },
    {
      "cell_type": "code",
      "source": [
        "#Qual o status que o jogador Rafael Leitão possui?\n",
        "for jogador in db.chess.find({ \"name\": \"Rafael Leitao\"}):    \n",
        "    print(jogador['status'])"
      ],
      "metadata": {
        "colab": {
          "base_uri": "https://localhost:8080/"
        },
        "id": "Av2b21Xcr0T4",
        "outputId": "dc001e3e-6174-4631-ee27-a76af8642aa5"
      },
      "execution_count": 64,
      "outputs": [
        {
          "output_type": "stream",
          "name": "stdout",
          "text": [
            "premium\n"
          ]
        }
      ]
    },
    {
      "cell_type": "code",
      "source": [
        "#Quais são os jogadores que possuem mais que 30.000 seguidores?\n",
        "followers = db.chess.count_documents({ \"followers\": { \"$gt\": 30000 }})\n",
        "print(followers)\n",
        "for jogador in db.chess.find({ \"followers\": { \"$gt\": 30000 }}):    \n",
        "    print(jogador['name'])"
      ],
      "metadata": {
        "colab": {
          "base_uri": "https://localhost:8080/"
        },
        "id": "-OLJPIAasIhe",
        "outputId": "b0eab16c-4c30-4c9a-b2d5-a49b5f010d42"
      },
      "execution_count": 54,
      "outputs": [
        {
          "output_type": "stream",
          "name": "stdout",
          "text": [
            "3\n",
            "Simon Williams\n",
            "Hikaru Nakamura\n",
            "Magnus Carlsen\n"
          ]
        }
      ]
    },
    {
      "cell_type": "code",
      "source": [
        "#Qual a localização do jogador Robert L. Hess?\n",
        "for jogador in db.chess.find({ \"name\": 'Robert L. Hess'}):    \n",
        "    print(jogador['location'])"
      ],
      "metadata": {
        "colab": {
          "base_uri": "https://localhost:8080/"
        },
        "id": "UfNpw0DTsn-9",
        "outputId": "2fdb479b-2dbb-4a22-9e4e-f15436878ee0"
      },
      "execution_count": 55,
      "outputs": [
        {
          "output_type": "stream",
          "name": "stdout",
          "text": [
            "New York\n"
          ]
        }
      ]
    }
  ]
}